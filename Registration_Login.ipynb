{
  "nbformat": 4,
  "nbformat_minor": 0,
  "metadata": {
    "colab": {
      "name": "Registration-Login.ipynb",
      "provenance": []
    },
    "kernelspec": {
      "name": "python3",
      "display_name": "Python 3"
    },
    "language_info": {
      "name": "python"
    }
  },
  "cells": [
    {
      "cell_type": "code",
      "execution_count": 5,
      "metadata": {
        "colab": {
          "base_uri": "https://localhost:8080/"
        },
        "id": "rkZ-WAXQNtFQ",
        "outputId": "ec84b4a7-8653-4bae-9139-86455e59829c"
      },
      "outputs": [
        {
          "name": "stdout",
          "output_type": "stream",
          "text": [
            "Please select an option:\n",
            " 1 - Register\n",
            " 2 - Login \n",
            " 3 - Exit2\n",
            "Enter your e-mail:xyz@gmail.com\n",
            "Enter your password:Amidiagx#2345\n",
            "Did you forget your password\n",
            " 1 - Yes, I forgot my password 2 - No1\n",
            "Your password is: Amidiagx#234\n",
            "Please select an option:\n",
            " 1 - Register\n",
            " 2 - Login \n",
            " 3 - Exit2\n",
            "Enter your e-mail:xyz@gmail.com\n",
            "Enter your password:vfdverver\n",
            "Did you forget your password\n",
            " 1 - Yes, I forgot my password 2 - No1\n",
            "Your password is: Amidiagx#234\n",
            "Please select an option:\n",
            " 1 - Register\n",
            " 2 - Login \n",
            " 3 - Exit2\n",
            "Enter your e-mail:abc@gmail.com\n",
            "Enter your password:vsvsd\n",
            "Email is not registered.\n",
            "Would you like to register? 1 - Yes 2 - No\n",
            "2\n",
            "Please select an option:\n",
            " 1 - Register\n",
            " 2 - Login \n",
            " 3 - Exit3\n"
          ]
        }
      ],
      "source": [
        "import json\n",
        "import re\n",
        "def register():\n",
        "    mail = input(\"Enter your e-mail:\")\n",
        "    pat1 = '^[A-Za-z0-9._%+-]+@[A-Za-z0-9]+\\.[A-Z|a-z]{2,3}$'\n",
        "    pat2 = '^(?=.*\\d)(?=.*[a-z])(?=.*[A-Z])(?=.*[@#$%*]).{5,16}$'\n",
        "    while True:\n",
        "        if re.search(pat1,mail) == None:\n",
        "            print('E-mail is Invalid')\n",
        "            mail = input(\"Please enter a valid e-mail:\")\n",
        "        else:\n",
        "            break\n",
        "    pwd = input(\"Enter your password:\")\n",
        "    while True:\n",
        "        if re.search(pat2,pwd) == None:\n",
        "            print('Password is Invalid')\n",
        "            pwd = input(\"Please enter a valid password:\")\n",
        "        else:\n",
        "            print(\"Successfully registered\")\n",
        "            break\n",
        "    with open('demo.txt', mode = 'a') as file:\n",
        "        str1 = '{ \"email\": \"' + mail + '\", \"pwd\":\"' + pwd + '\" }'+'\\n'\n",
        "        file.write(str1)\n",
        "        \n",
        "        \n",
        "def validate():\n",
        "    mail = input(\"Enter your e-mail:\")\n",
        "    pwd = input(\"Enter your password:\")\n",
        "    with open('demo.txt') as file:\n",
        "        for line in file:\n",
        "            out = json.loads(line)\n",
        "            if out['email'] == mail:\n",
        "                if out['pwd'] == pwd:\n",
        "                    print('Login Successful')\n",
        "                    break\n",
        "                else:\n",
        "                    forget = int(input(\"Did you forget your password\\n 1 - Yes, I forgot my password 2 - No\"))\n",
        "                    if forget == 1:\n",
        "                        print('Your password is:',out['pwd'])\n",
        "                        break\n",
        "                    else:\n",
        "                        break\n",
        "            \n",
        "            else:\n",
        "                print(\"Email is not registered.\\nWould you like to register? 1 - Yes 2 - No\")\n",
        "                reg = int(input())\n",
        "                if reg == 1:\n",
        "                    register()\n",
        "                    break\n",
        "                else:\n",
        "                    break\n",
        "\n",
        "\n",
        "while True:\n",
        "    num = int(input(\"Please select an option:\\n 1 - Register\\n 2 - Login \\n 3 - Exit\"))\n",
        "    if num == 1:\n",
        "        register()\n",
        "    elif num == 2:\n",
        "        validate()\n",
        "    else:\n",
        "        break"
      ]
    }
  ]
}